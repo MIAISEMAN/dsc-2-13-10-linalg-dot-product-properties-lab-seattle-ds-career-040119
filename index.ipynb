{
 "cells": [
  {
   "cell_type": "markdown",
   "metadata": {},
   "source": [
    "# Properties of Dot Product - Lab"
   ]
  },
  {
   "cell_type": "markdown",
   "metadata": {},
   "source": [
    "## Introduction\n",
    "\n",
    "In this lab we shall look at some interesting properties of a Dot product type matrix multiplication. Understanding these properties will become useful as we move forward with machine learning advanced linear algebra. The lab will require you to calculate results to provide a proof for these properties.\n",
    "\n",
    "## Objectives\n",
    "You will be able to:\n",
    "* Understand and analytically explain Distributive, Commutative and Associative properties of dot product\n",
    "\n",
    "## Instructions\n",
    "\n",
    "* For each property, create suitably sized matrices with random data and prove the equations \n",
    "* Ensure that size/dimension assumptions are met while performing calculations (you'll see errors otherwise)\n",
    "* Calculate the LHS and RHS for all equations and show if they are equal or not"
   ]
  },
  {
   "cell_type": "markdown",
   "metadata": {},
   "source": [
    "## Distributive Property - Matrices multiplication is distributive\n",
    "### Prove that A.(B+C)=A.B+A.C"
   ]
  },
  {
   "cell_type": "code",
   "execution_count": 11,
   "metadata": {},
   "outputs": [],
   "source": [
    "import numpy as np\n",
    "import random\n",
    "    \n",
    "def rand_matrix(matrix):    \n",
    "    for x in range(0, matrix.shape[0]):\n",
    "        for y in range(0, matrix.shape[1]):\n",
    "            matrix[x][y] = random.randrange(1, 100)\n",
    "    return matrix   "
   ]
  },
  {
   "cell_type": "code",
   "execution_count": 18,
   "metadata": {},
   "outputs": [],
   "source": [
    "A = np.zeros([9,9])\n",
    "B = np.zeros([9,9])\n",
    "C = np.zeros([9,9])"
   ]
  },
  {
   "cell_type": "code",
   "execution_count": 19,
   "metadata": {},
   "outputs": [],
   "source": [
    "A = rand_matrix(A)\n",
    "B = rand_matrix(B)\n",
    "C = rand_matrix(C)"
   ]
  },
  {
   "cell_type": "code",
   "execution_count": 24,
   "metadata": {},
   "outputs": [
    {
     "data": {
      "text/plain": [
       "array([[46384., 65848., 50809., 67783., 41620., 59943., 56720., 54467.,\n",
       "        46983.],\n",
       "       [42577., 57478., 53100., 57174., 37622., 52792., 56421., 61418.,\n",
       "        42498.],\n",
       "       [49619., 60678., 48076., 63920., 41889., 56186., 57173., 57139.,\n",
       "        44108.],\n",
       "       [35873., 46241., 31077., 47658., 30110., 43712., 41911., 43788.,\n",
       "        35892.],\n",
       "       [42063., 42985., 35255., 43287., 28951., 36049., 44549., 47073.,\n",
       "        33873.],\n",
       "       [41859., 55183., 39538., 58800., 34399., 51764., 53173., 53464.,\n",
       "        44037.],\n",
       "       [45407., 63565., 47703., 63775., 41981., 60532., 52394., 52430.,\n",
       "        45016.],\n",
       "       [38259., 45693., 44860., 52988., 29087., 53369., 41060., 42223.,\n",
       "        39759.],\n",
       "       [30761., 33950., 26837., 36279., 23838., 37687., 32308., 37545.,\n",
       "        29256.]])"
      ]
     },
     "execution_count": 24,
     "metadata": {},
     "output_type": "execute_result"
    }
   ],
   "source": [
    "LHS = np.dot(A, (B+C))\n",
    "LHS"
   ]
  },
  {
   "cell_type": "code",
   "execution_count": 26,
   "metadata": {},
   "outputs": [
    {
     "data": {
      "text/plain": [
       "array([[46384., 65848., 50809., 67783., 41620., 59943., 56720., 54467.,\n",
       "        46983.],\n",
       "       [42577., 57478., 53100., 57174., 37622., 52792., 56421., 61418.,\n",
       "        42498.],\n",
       "       [49619., 60678., 48076., 63920., 41889., 56186., 57173., 57139.,\n",
       "        44108.],\n",
       "       [35873., 46241., 31077., 47658., 30110., 43712., 41911., 43788.,\n",
       "        35892.],\n",
       "       [42063., 42985., 35255., 43287., 28951., 36049., 44549., 47073.,\n",
       "        33873.],\n",
       "       [41859., 55183., 39538., 58800., 34399., 51764., 53173., 53464.,\n",
       "        44037.],\n",
       "       [45407., 63565., 47703., 63775., 41981., 60532., 52394., 52430.,\n",
       "        45016.],\n",
       "       [38259., 45693., 44860., 52988., 29087., 53369., 41060., 42223.,\n",
       "        39759.],\n",
       "       [30761., 33950., 26837., 36279., 23838., 37687., 32308., 37545.,\n",
       "        29256.]])"
      ]
     },
     "execution_count": 26,
     "metadata": {},
     "output_type": "execute_result"
    }
   ],
   "source": [
    "RHS = np.dot(A,B) + np.dot(A,C)\n",
    "RHS"
   ]
  },
  {
   "cell_type": "code",
   "execution_count": 27,
   "metadata": {},
   "outputs": [
    {
     "data": {
      "text/plain": [
       "array([[ True,  True,  True,  True,  True,  True,  True,  True,  True],\n",
       "       [ True,  True,  True,  True,  True,  True,  True,  True,  True],\n",
       "       [ True,  True,  True,  True,  True,  True,  True,  True,  True],\n",
       "       [ True,  True,  True,  True,  True,  True,  True,  True,  True],\n",
       "       [ True,  True,  True,  True,  True,  True,  True,  True,  True],\n",
       "       [ True,  True,  True,  True,  True,  True,  True,  True,  True],\n",
       "       [ True,  True,  True,  True,  True,  True,  True,  True,  True],\n",
       "       [ True,  True,  True,  True,  True,  True,  True,  True,  True],\n",
       "       [ True,  True,  True,  True,  True,  True,  True,  True,  True]])"
      ]
     },
     "execution_count": 27,
     "metadata": {},
     "output_type": "execute_result"
    }
   ],
   "source": [
    "LHS==RHS"
   ]
  },
  {
   "cell_type": "markdown",
   "metadata": {},
   "source": [
    "## Associative Property - Matrices multiplication is associative\n",
    "### Prove that A.(B.C)=(A.B).C"
   ]
  },
  {
   "cell_type": "code",
   "execution_count": 35,
   "metadata": {},
   "outputs": [
    {
     "data": {
      "text/plain": [
       "array([[11586953., 18595532., 11876648., 15185786.,  9694540., 10040818.,\n",
       "        11896531., 12128157.,  7434694.],\n",
       "       [10941317., 17303094., 11110913., 14303543.,  8850210.,  9264930.,\n",
       "        11238233., 11410738.,  6766754.],\n",
       "       [10966374., 17723525., 11343906., 14471475.,  9078194.,  9734099.,\n",
       "        11266039., 11478517.,  7003077.],\n",
       "       [ 8163769., 13445435.,  8575712., 11018486.,  6901261.,  7493376.,\n",
       "         8263755.,  8822201.,  5403029.],\n",
       "       [ 7753956., 13227361.,  8742781., 10827258.,  6839247.,  6999236.,\n",
       "         8659325.,  8459077.,  4788558.],\n",
       "       [10257407., 16613694., 10426735., 13638323.,  8537027.,  9059906.,\n",
       "        10179036., 10872121.,  6697573.],\n",
       "       [10617855., 17337745., 11248788., 14070966.,  8995317.,  9517755.,\n",
       "        11126963., 11197094.,  6850958.],\n",
       "       [ 9284118., 14412985.,  9300094., 11830026.,  7656559.,  7622023.,\n",
       "         9550094.,  9153709.,  5769576.],\n",
       "       [ 6275086., 10409682.,  6697525.,  8472890.,  5246419.,  5731071.,\n",
       "         6512816.,  6616594.,  3992257.]])"
      ]
     },
     "execution_count": 35,
     "metadata": {},
     "output_type": "execute_result"
    }
   ],
   "source": [
    "LHS = np.dot(A,(np.dot(B,C)))\n",
    "LHS"
   ]
  },
  {
   "cell_type": "code",
   "execution_count": 36,
   "metadata": {},
   "outputs": [
    {
     "data": {
      "text/plain": [
       "array([[11586953., 18595532., 11876648., 15185786.,  9694540., 10040818.,\n",
       "        11896531., 12128157.,  7434694.],\n",
       "       [10941317., 17303094., 11110913., 14303543.,  8850210.,  9264930.,\n",
       "        11238233., 11410738.,  6766754.],\n",
       "       [10966374., 17723525., 11343906., 14471475.,  9078194.,  9734099.,\n",
       "        11266039., 11478517.,  7003077.],\n",
       "       [ 8163769., 13445435.,  8575712., 11018486.,  6901261.,  7493376.,\n",
       "         8263755.,  8822201.,  5403029.],\n",
       "       [ 7753956., 13227361.,  8742781., 10827258.,  6839247.,  6999236.,\n",
       "         8659325.,  8459077.,  4788558.],\n",
       "       [10257407., 16613694., 10426735., 13638323.,  8537027.,  9059906.,\n",
       "        10179036., 10872121.,  6697573.],\n",
       "       [10617855., 17337745., 11248788., 14070966.,  8995317.,  9517755.,\n",
       "        11126963., 11197094.,  6850958.],\n",
       "       [ 9284118., 14412985.,  9300094., 11830026.,  7656559.,  7622023.,\n",
       "         9550094.,  9153709.,  5769576.],\n",
       "       [ 6275086., 10409682.,  6697525.,  8472890.,  5246419.,  5731071.,\n",
       "         6512816.,  6616594.,  3992257.]])"
      ]
     },
     "execution_count": 36,
     "metadata": {},
     "output_type": "execute_result"
    }
   ],
   "source": [
    "rhs_inner = np.dot(A,B)\n",
    "RHS = np.dot(rhs_inner,C)\n",
    "RHS"
   ]
  },
  {
   "cell_type": "code",
   "execution_count": 37,
   "metadata": {},
   "outputs": [
    {
     "data": {
      "text/plain": [
       "array([[ True,  True,  True,  True,  True,  True,  True,  True,  True],\n",
       "       [ True,  True,  True,  True,  True,  True,  True,  True,  True],\n",
       "       [ True,  True,  True,  True,  True,  True,  True,  True,  True],\n",
       "       [ True,  True,  True,  True,  True,  True,  True,  True,  True],\n",
       "       [ True,  True,  True,  True,  True,  True,  True,  True,  True],\n",
       "       [ True,  True,  True,  True,  True,  True,  True,  True,  True],\n",
       "       [ True,  True,  True,  True,  True,  True,  True,  True,  True],\n",
       "       [ True,  True,  True,  True,  True,  True,  True,  True,  True],\n",
       "       [ True,  True,  True,  True,  True,  True,  True,  True,  True]])"
      ]
     },
     "execution_count": 37,
     "metadata": {},
     "output_type": "execute_result"
    }
   ],
   "source": [
    "RHS==LHS"
   ]
  },
  {
   "cell_type": "markdown",
   "metadata": {},
   "source": [
    "## Commutative Property - Matrix multiplication is NOT commutative\n",
    "### Prove that for matrices, A.B ≠ B.A"
   ]
  },
  {
   "cell_type": "code",
   "execution_count": 39,
   "metadata": {},
   "outputs": [
    {
     "data": {
      "text/plain": [
       "array([[22152., 24115., 25914., 33642., 21351., 38268., 32403., 29467.,\n",
       "        33105.],\n",
       "       [22354., 18192., 26703., 28714., 21071., 31296., 30153., 34151.,\n",
       "        27642.],\n",
       "       [23672., 23167., 23578., 31147., 21863., 34569., 32168., 29169.,\n",
       "        28137.],\n",
       "       [14866., 17460., 16232., 22959., 16066., 25944., 26737., 23475.,\n",
       "        22901.],\n",
       "       [20499., 15553., 16241., 19453., 15293., 22616., 20373., 25999.,\n",
       "        24239.],\n",
       "       [16927., 18659., 21445., 30111., 18538., 33453., 32450., 30051.,\n",
       "        28516.],\n",
       "       [21852., 25691., 22936., 29767., 20334., 36207., 29914., 26609.,\n",
       "        30063.],\n",
       "       [18864., 16566., 23868., 28627., 12157., 31401., 22159., 25542.,\n",
       "        24530.],\n",
       "       [13965., 13114., 12785., 17213., 12157., 20433., 19069., 19371.,\n",
       "        15678.]])"
      ]
     },
     "execution_count": 39,
     "metadata": {},
     "output_type": "execute_result"
    }
   ],
   "source": [
    "LHS = np.dot(A,B)\n",
    "LHS"
   ]
  },
  {
   "cell_type": "code",
   "execution_count": 41,
   "metadata": {},
   "outputs": [
    {
     "data": {
      "text/plain": [
       "array([[22485., 20820., 18443., 29207., 23224., 18796., 34021., 13496.,\n",
       "        11306.],\n",
       "       [20610., 17579., 16855., 25653., 23797., 19256., 29131., 17461.,\n",
       "        14352.],\n",
       "       [22744., 17832., 15144., 29224., 21516., 16504., 27818., 17625.,\n",
       "        12211.],\n",
       "       [27870., 25369., 21194., 34732., 36298., 23427., 42064., 18166.,\n",
       "        18474.],\n",
       "       [29785., 27605., 21335., 28894., 29831., 17213., 34589., 18780.,\n",
       "        16458.],\n",
       "       [29034., 26532., 24330., 40140., 34535., 20111., 41466., 23350.,\n",
       "        17577.],\n",
       "       [20553., 14877., 14823., 24418., 22348., 14431., 25168., 12963.,\n",
       "        10635.],\n",
       "       [31291., 25586., 25804., 35198., 39352., 26174., 43377., 21932.,\n",
       "        19956.],\n",
       "       [29933., 24464., 23253., 33547., 36779., 23056., 38656., 20913.,\n",
       "        19779.]])"
      ]
     },
     "execution_count": 41,
     "metadata": {},
     "output_type": "execute_result"
    }
   ],
   "source": [
    "RHS = np.dot(B,A)\n",
    "RHS"
   ]
  },
  {
   "cell_type": "code",
   "execution_count": 42,
   "metadata": {},
   "outputs": [
    {
     "data": {
      "text/plain": [
       "array([[False, False, False, False, False, False, False, False, False],\n",
       "       [False, False, False, False, False, False, False, False, False],\n",
       "       [False, False, False, False, False, False, False, False, False],\n",
       "       [False, False, False, False, False, False, False, False, False],\n",
       "       [False, False, False, False, False, False, False, False, False],\n",
       "       [False, False, False, False, False, False, False, False, False],\n",
       "       [False, False, False, False, False, False, False, False, False],\n",
       "       [False, False, False, False, False, False, False, False, False],\n",
       "       [False, False, False, False, False, False, False, False, False]])"
      ]
     },
     "execution_count": 42,
     "metadata": {},
     "output_type": "execute_result"
    }
   ],
   "source": [
    "LHS==RHS"
   ]
  },
  {
   "cell_type": "markdown",
   "metadata": {},
   "source": [
    "## Commutative Property -  vector multiplication IS commutative\n",
    "### Prove that for vectors, x<sup>T</sup> . y = y<sup>T</sup> . x\n",
    "Note: superscipt<sup>T</sup> denotes the transpose we saw earlier"
   ]
  },
  {
   "cell_type": "code",
   "execution_count": 66,
   "metadata": {},
   "outputs": [],
   "source": [
    "x = np.zeros([1,9])\n",
    "y = np.zeros([1,9])"
   ]
  },
  {
   "cell_type": "code",
   "execution_count": 67,
   "metadata": {},
   "outputs": [],
   "source": [
    "x = rand_matrix(x)\n",
    "y = rand_matrix(y)"
   ]
  },
  {
   "cell_type": "code",
   "execution_count": 68,
   "metadata": {},
   "outputs": [],
   "source": [
    "xt = x.T\n",
    "yt=y.T"
   ]
  },
  {
   "cell_type": "code",
   "execution_count": 69,
   "metadata": {},
   "outputs": [
    {
     "data": {
      "text/plain": [
       "array([[3.825e+03, 9.000e+02, 6.450e+03, 2.850e+03, 2.475e+03, 1.800e+03,\n",
       "        6.225e+03, 7.500e+01, 7.500e+01],\n",
       "       [4.590e+03, 1.080e+03, 7.740e+03, 3.420e+03, 2.970e+03, 2.160e+03,\n",
       "        7.470e+03, 9.000e+01, 9.000e+01],\n",
       "       [2.652e+03, 6.240e+02, 4.472e+03, 1.976e+03, 1.716e+03, 1.248e+03,\n",
       "        4.316e+03, 5.200e+01, 5.200e+01],\n",
       "       [1.530e+02, 3.600e+01, 2.580e+02, 1.140e+02, 9.900e+01, 7.200e+01,\n",
       "        2.490e+02, 3.000e+00, 3.000e+00],\n",
       "       [1.071e+03, 2.520e+02, 1.806e+03, 7.980e+02, 6.930e+02, 5.040e+02,\n",
       "        1.743e+03, 2.100e+01, 2.100e+01],\n",
       "       [3.060e+02, 7.200e+01, 5.160e+02, 2.280e+02, 1.980e+02, 1.440e+02,\n",
       "        4.980e+02, 6.000e+00, 6.000e+00],\n",
       "       [4.845e+03, 1.140e+03, 8.170e+03, 3.610e+03, 3.135e+03, 2.280e+03,\n",
       "        7.885e+03, 9.500e+01, 9.500e+01],\n",
       "       [4.437e+03, 1.044e+03, 7.482e+03, 3.306e+03, 2.871e+03, 2.088e+03,\n",
       "        7.221e+03, 8.700e+01, 8.700e+01],\n",
       "       [3.060e+03, 7.200e+02, 5.160e+03, 2.280e+03, 1.980e+03, 1.440e+03,\n",
       "        4.980e+03, 6.000e+01, 6.000e+01]])"
      ]
     },
     "execution_count": 69,
     "metadata": {},
     "output_type": "execute_result"
    }
   ],
   "source": [
    "LHS = np.dot(xt,y)\n",
    "LHS"
   ]
  },
  {
   "cell_type": "code",
   "execution_count": 71,
   "metadata": {},
   "outputs": [
    {
     "data": {
      "text/plain": [
       "array([[3.825e+03, 4.590e+03, 2.652e+03, 1.530e+02, 1.071e+03, 3.060e+02,\n",
       "        4.845e+03, 4.437e+03, 3.060e+03],\n",
       "       [9.000e+02, 1.080e+03, 6.240e+02, 3.600e+01, 2.520e+02, 7.200e+01,\n",
       "        1.140e+03, 1.044e+03, 7.200e+02],\n",
       "       [6.450e+03, 7.740e+03, 4.472e+03, 2.580e+02, 1.806e+03, 5.160e+02,\n",
       "        8.170e+03, 7.482e+03, 5.160e+03],\n",
       "       [2.850e+03, 3.420e+03, 1.976e+03, 1.140e+02, 7.980e+02, 2.280e+02,\n",
       "        3.610e+03, 3.306e+03, 2.280e+03],\n",
       "       [2.475e+03, 2.970e+03, 1.716e+03, 9.900e+01, 6.930e+02, 1.980e+02,\n",
       "        3.135e+03, 2.871e+03, 1.980e+03],\n",
       "       [1.800e+03, 2.160e+03, 1.248e+03, 7.200e+01, 5.040e+02, 1.440e+02,\n",
       "        2.280e+03, 2.088e+03, 1.440e+03],\n",
       "       [6.225e+03, 7.470e+03, 4.316e+03, 2.490e+02, 1.743e+03, 4.980e+02,\n",
       "        7.885e+03, 7.221e+03, 4.980e+03],\n",
       "       [7.500e+01, 9.000e+01, 5.200e+01, 3.000e+00, 2.100e+01, 6.000e+00,\n",
       "        9.500e+01, 8.700e+01, 6.000e+01],\n",
       "       [7.500e+01, 9.000e+01, 5.200e+01, 3.000e+00, 2.100e+01, 6.000e+00,\n",
       "        9.500e+01, 8.700e+01, 6.000e+01]])"
      ]
     },
     "execution_count": 71,
     "metadata": {},
     "output_type": "execute_result"
    }
   ],
   "source": [
    "RHS = np.dot(yt,x)\n",
    "RHS"
   ]
  },
  {
   "cell_type": "code",
   "execution_count": 72,
   "metadata": {},
   "outputs": [
    {
     "data": {
      "text/plain": [
       "array([[ True, False, False, False, False, False, False, False, False],\n",
       "       [False,  True, False, False, False, False, False, False, False],\n",
       "       [False, False,  True, False, False, False, False, False, False],\n",
       "       [False, False, False,  True, False, False, False, False, False],\n",
       "       [False, False, False, False,  True, False, False, False, False],\n",
       "       [False, False, False, False, False,  True, False, False, False],\n",
       "       [False, False, False, False, False, False,  True, False, False],\n",
       "       [False, False, False, False, False, False, False,  True, False],\n",
       "       [False, False, False, False, False, False, False, False,  True]])"
      ]
     },
     "execution_count": 72,
     "metadata": {},
     "output_type": "execute_result"
    }
   ],
   "source": [
    "LHS==RHS"
   ]
  },
  {
   "cell_type": "markdown",
   "metadata": {},
   "source": [
    "#### and finally \n",
    "## Simplification of the matrix product\n",
    "### Prove that  (A.B)<sup>T</sup> = B<sup>T</sup> . A<sup>T</sup>"
   ]
  },
  {
   "cell_type": "code",
   "execution_count": 5,
   "metadata": {},
   "outputs": [],
   "source": [
    "np.dot(A,B))\n",
    "LHS = "
   ]
  },
  {
   "cell_type": "markdown",
   "metadata": {},
   "source": [
    "## Summary \n",
    "\n",
    "So now we have seen enough matrix algebra to help us solve a problem of linear equations as we saw earlier in this section. We shall see how to do this next. "
   ]
  }
 ],
 "metadata": {
  "kernelspec": {
   "display_name": "Python 3",
   "language": "python",
   "name": "python3"
  },
  "language_info": {
   "codemirror_mode": {
    "name": "ipython",
    "version": 3
   },
   "file_extension": ".py",
   "mimetype": "text/x-python",
   "name": "python",
   "nbconvert_exporter": "python",
   "pygments_lexer": "ipython3",
   "version": "3.6.6"
  }
 },
 "nbformat": 4,
 "nbformat_minor": 2
}

{
 "cells": [
  {
   "cell_type": "markdown",
   "metadata": {},
   "source": [
    "# Properties of Dot Product - Lab"
   ]
  },
  {
   "cell_type": "markdown",
   "metadata": {},
   "source": [
    "## Introduction\n",
    "\n",
    "In this lab we shall look at some interesting properties of a Dot product type matrix multiplication. Understanding these properties will become useful as we move forward with machine learning advanced linear algebra. The lab will require you to calculate results to provide a proof for these properties.\n",
    "\n",
    "## Objectives\n",
    "You will be able to:\n",
    "* Understand and analytically explain Distributive, Commutative and Associative properties of dot product\n",
    "\n",
    "## Instructions\n",
    "\n",
    "* For each property, create suitably sized matrices with random data and prove the equations \n",
    "* Ensure that size/dimension assumptions are met while performing calculations (you'll see errors otherwise)\n",
    "* Calculate the LHS and RHS for all equations and show if they are equal or not"
   ]
  },
  {
   "cell_type": "markdown",
   "metadata": {},
   "source": [
    "## Distributive Property - Matrices multiplication is distributive\n",
    "### Prove that A.(B+C)=A.B+A.C"
   ]
  },
  {
   "cell_type": "code",
   "execution_count": 2,
   "metadata": {},
   "outputs": [],
   "source": [
    "import numpy as np\n",
    "import random\n",
    "    \n",
    "def rand_matrix(matrix):    \n",
    "    for x in range(0, matrix.shape[0]):\n",
    "        for y in range(0, matrix.shape[1]):\n",
    "            matrix[x][y] = random.randrange(1, 100)\n",
    "    return matrix   "
   ]
  },
  {
   "cell_type": "code",
   "execution_count": 3,
   "metadata": {},
   "outputs": [],
   "source": [
    "A = np.zeros([9,9])\n",
    "B = np.zeros([9,9])\n",
    "C = np.zeros([9,9])"
   ]
  },
  {
   "cell_type": "code",
   "execution_count": 4,
   "metadata": {},
   "outputs": [],
   "source": [
    "A = rand_matrix(A)\n",
    "B = rand_matrix(B)\n",
    "C = rand_matrix(C)"
   ]
  },
  {
   "cell_type": "code",
   "execution_count": 5,
   "metadata": {},
   "outputs": [
    {
     "data": {
      "text/plain": [
       "array([[42827., 42346., 44205., 54388., 53193., 56949., 42625., 61232.,\n",
       "        49225.],\n",
       "       [36888., 25770., 33387., 40638., 40236., 39642., 22309., 32984.,\n",
       "        30292.],\n",
       "       [52460., 40556., 47169., 57683., 56594., 59165., 40070., 64707.,\n",
       "        59166.],\n",
       "       [61204., 43554., 51427., 60915., 62615., 67968., 44403., 60041.,\n",
       "        53173.],\n",
       "       [53091., 36148., 37778., 45298., 53668., 53898., 28900., 48689.,\n",
       "        44746.],\n",
       "       [55018., 37394., 48301., 51854., 56722., 59798., 35812., 55130.,\n",
       "        46809.],\n",
       "       [26705., 24803., 26685., 35935., 36352., 33870., 25196., 45916.,\n",
       "        36786.],\n",
       "       [50121., 41350., 43691., 53352., 51460., 61433., 37371., 57457.,\n",
       "        46998.],\n",
       "       [53371., 41630., 43514., 53243., 59095., 61771., 30418., 53056.,\n",
       "        41421.]])"
      ]
     },
     "execution_count": 5,
     "metadata": {},
     "output_type": "execute_result"
    }
   ],
   "source": [
    "LHS = np.dot(A, (B+C))\n",
    "LHS"
   ]
  },
  {
   "cell_type": "code",
   "execution_count": 6,
   "metadata": {},
   "outputs": [
    {
     "data": {
      "text/plain": [
       "array([[42827., 42346., 44205., 54388., 53193., 56949., 42625., 61232.,\n",
       "        49225.],\n",
       "       [36888., 25770., 33387., 40638., 40236., 39642., 22309., 32984.,\n",
       "        30292.],\n",
       "       [52460., 40556., 47169., 57683., 56594., 59165., 40070., 64707.,\n",
       "        59166.],\n",
       "       [61204., 43554., 51427., 60915., 62615., 67968., 44403., 60041.,\n",
       "        53173.],\n",
       "       [53091., 36148., 37778., 45298., 53668., 53898., 28900., 48689.,\n",
       "        44746.],\n",
       "       [55018., 37394., 48301., 51854., 56722., 59798., 35812., 55130.,\n",
       "        46809.],\n",
       "       [26705., 24803., 26685., 35935., 36352., 33870., 25196., 45916.,\n",
       "        36786.],\n",
       "       [50121., 41350., 43691., 53352., 51460., 61433., 37371., 57457.,\n",
       "        46998.],\n",
       "       [53371., 41630., 43514., 53243., 59095., 61771., 30418., 53056.,\n",
       "        41421.]])"
      ]
     },
     "execution_count": 6,
     "metadata": {},
     "output_type": "execute_result"
    }
   ],
   "source": [
    "RHS = np.dot(A,B) + np.dot(A,C)\n",
    "RHS"
   ]
  },
  {
   "cell_type": "code",
   "execution_count": 7,
   "metadata": {},
   "outputs": [
    {
     "data": {
      "text/plain": [
       "array([[ True,  True,  True,  True,  True,  True,  True,  True,  True],\n",
       "       [ True,  True,  True,  True,  True,  True,  True,  True,  True],\n",
       "       [ True,  True,  True,  True,  True,  True,  True,  True,  True],\n",
       "       [ True,  True,  True,  True,  True,  True,  True,  True,  True],\n",
       "       [ True,  True,  True,  True,  True,  True,  True,  True,  True],\n",
       "       [ True,  True,  True,  True,  True,  True,  True,  True,  True],\n",
       "       [ True,  True,  True,  True,  True,  True,  True,  True,  True],\n",
       "       [ True,  True,  True,  True,  True,  True,  True,  True,  True],\n",
       "       [ True,  True,  True,  True,  True,  True,  True,  True,  True]])"
      ]
     },
     "execution_count": 7,
     "metadata": {},
     "output_type": "execute_result"
    }
   ],
   "source": [
    "LHS==RHS"
   ]
  },
  {
   "cell_type": "markdown",
   "metadata": {},
   "source": [
    "## Associative Property - Matrices multiplication is associative\n",
    "### Prove that A.(B.C)=(A.B).C"
   ]
  },
  {
   "cell_type": "code",
   "execution_count": 8,
   "metadata": {},
   "outputs": [
    {
     "data": {
      "text/plain": [
       "array([[11967601., 10168641., 10309702., 13984885., 12486069., 10493728.,\n",
       "         7312737., 13775741., 13883342.],\n",
       "       [ 8079659.,  7109850.,  7161110., 10079506.,  8860773.,  7058457.,\n",
       "         5182230.,  9870302.,  9894421.],\n",
       "       [12863953., 10550700., 10938806., 14859806., 13559810., 10780814.,\n",
       "         7730545., 14951055., 15048836.],\n",
       "       [14128871., 12197088., 12222795., 16875614., 14893394., 12125213.,\n",
       "         8621805., 16243752., 16358829.],\n",
       "       [11104030.,  9700127.,  9640646., 13277958., 11707878.,  9434728.,\n",
       "         6701352., 12647992., 12801748.],\n",
       "       [12215380., 10593846., 10848855., 14850338., 12910299., 10487815.,\n",
       "         7663784., 14320913., 14496089.],\n",
       "       [ 7790044.,  6746546.,  6606723.,  9065347.,  8224826.,  6992575.,\n",
       "         4774398.,  9180789.,  9299373.],\n",
       "       [12302341., 10942986., 10613125., 14753605., 12872442., 10775585.,\n",
       "         7520823., 14038114., 14231109.],\n",
       "       [11791653., 10859810., 10620272., 15009532., 12810743., 10644288.,\n",
       "         7738895., 14284907., 14455638.]])"
      ]
     },
     "execution_count": 8,
     "metadata": {},
     "output_type": "execute_result"
    }
   ],
   "source": [
    "LHS = np.dot(A,(np.dot(B,C)))\n",
    "LHS"
   ]
  },
  {
   "cell_type": "code",
   "execution_count": 9,
   "metadata": {},
   "outputs": [
    {
     "data": {
      "text/plain": [
       "array([[11967601., 10168641., 10309702., 13984885., 12486069., 10493728.,\n",
       "         7312737., 13775741., 13883342.],\n",
       "       [ 8079659.,  7109850.,  7161110., 10079506.,  8860773.,  7058457.,\n",
       "         5182230.,  9870302.,  9894421.],\n",
       "       [12863953., 10550700., 10938806., 14859806., 13559810., 10780814.,\n",
       "         7730545., 14951055., 15048836.],\n",
       "       [14128871., 12197088., 12222795., 16875614., 14893394., 12125213.,\n",
       "         8621805., 16243752., 16358829.],\n",
       "       [11104030.,  9700127.,  9640646., 13277958., 11707878.,  9434728.,\n",
       "         6701352., 12647992., 12801748.],\n",
       "       [12215380., 10593846., 10848855., 14850338., 12910299., 10487815.,\n",
       "         7663784., 14320913., 14496089.],\n",
       "       [ 7790044.,  6746546.,  6606723.,  9065347.,  8224826.,  6992575.,\n",
       "         4774398.,  9180789.,  9299373.],\n",
       "       [12302341., 10942986., 10613125., 14753605., 12872442., 10775585.,\n",
       "         7520823., 14038114., 14231109.],\n",
       "       [11791653., 10859810., 10620272., 15009532., 12810743., 10644288.,\n",
       "         7738895., 14284907., 14455638.]])"
      ]
     },
     "execution_count": 9,
     "metadata": {},
     "output_type": "execute_result"
    }
   ],
   "source": [
    "rhs_inner = np.dot(A,B)\n",
    "RHS = np.dot(rhs_inner,C)\n",
    "RHS"
   ]
  },
  {
   "cell_type": "code",
   "execution_count": 10,
   "metadata": {},
   "outputs": [
    {
     "data": {
      "text/plain": [
       "array([[ True,  True,  True,  True,  True,  True,  True,  True,  True],\n",
       "       [ True,  True,  True,  True,  True,  True,  True,  True,  True],\n",
       "       [ True,  True,  True,  True,  True,  True,  True,  True,  True],\n",
       "       [ True,  True,  True,  True,  True,  True,  True,  True,  True],\n",
       "       [ True,  True,  True,  True,  True,  True,  True,  True,  True],\n",
       "       [ True,  True,  True,  True,  True,  True,  True,  True,  True],\n",
       "       [ True,  True,  True,  True,  True,  True,  True,  True,  True],\n",
       "       [ True,  True,  True,  True,  True,  True,  True,  True,  True],\n",
       "       [ True,  True,  True,  True,  True,  True,  True,  True,  True]])"
      ]
     },
     "execution_count": 10,
     "metadata": {},
     "output_type": "execute_result"
    }
   ],
   "source": [
    "RHS==LHS"
   ]
  },
  {
   "cell_type": "markdown",
   "metadata": {},
   "source": [
    "## Commutative Property - Matrix multiplication is NOT commutative\n",
    "### Prove that for matrices, A.B ≠ B.A"
   ]
  },
  {
   "cell_type": "code",
   "execution_count": 11,
   "metadata": {},
   "outputs": [
    {
     "data": {
      "text/plain": [
       "array([[21732., 20999., 21085., 20784., 24987., 34203., 24006., 31498.,\n",
       "        20101.],\n",
       "       [14612.,  8134., 16632., 20472., 21837., 25665., 15453., 15611.,\n",
       "        12869.],\n",
       "       [24985., 16825., 23866., 26211., 27548., 34158., 25133., 29264.,\n",
       "        25107.],\n",
       "       [28699., 19497., 25926., 28851., 31659., 43714., 27693., 29988.,\n",
       "        21761.],\n",
       "       [25642., 16885., 21680., 21563., 23047., 33468., 16841., 24384.,\n",
       "        20098.],\n",
       "       [26219., 16718., 26112., 23862., 26503., 37657., 21839., 27728.,\n",
       "        19624.],\n",
       "       [11950., 13961., 13541., 16722., 16011., 21020., 14389., 22390.,\n",
       "        14186.],\n",
       "       [25373., 18998., 22023., 25445., 26043., 38868., 22756., 28794.,\n",
       "        17035.],\n",
       "       [24616., 16252., 25081., 26517., 30001., 38266., 19109., 28377.,\n",
       "        16244.]])"
      ]
     },
     "execution_count": 11,
     "metadata": {},
     "output_type": "execute_result"
    }
   ],
   "source": [
    "LHS = np.dot(A,B)\n",
    "LHS"
   ]
  },
  {
   "cell_type": "code",
   "execution_count": 12,
   "metadata": {},
   "outputs": [
    {
     "data": {
      "text/plain": [
       "array([[23439., 32333., 19943., 24097., 14227., 26501., 20970., 21332.,\n",
       "        35774.],\n",
       "       [16341., 27450., 18907., 19216., 20213., 29244., 15018., 22297.,\n",
       "        31000.],\n",
       "       [22151., 27361., 18631., 17624., 13001., 27432., 13502., 21258.,\n",
       "        32980.],\n",
       "       [27596., 35928., 21655., 19285., 14947., 31660., 17427., 23799.,\n",
       "        34839.],\n",
       "       [15303., 20348., 10527., 18121., 12809., 19764.,  7067., 19064.,\n",
       "        26936.],\n",
       "       [19049., 27177., 17478., 20020., 17866., 21854., 16103., 19540.,\n",
       "        30975.],\n",
       "       [21454., 30348., 18849., 23219., 25073., 26546., 13444., 25946.,\n",
       "        37058.],\n",
       "       [26021., 36269., 26423., 25905., 22947., 32322., 20611., 28268.,\n",
       "        42285.],\n",
       "       [20399., 31433., 21508., 25508., 19472., 30521., 21885., 27160.,\n",
       "        37534.]])"
      ]
     },
     "execution_count": 12,
     "metadata": {},
     "output_type": "execute_result"
    }
   ],
   "source": [
    "RHS = np.dot(B,A)\n",
    "RHS"
   ]
  },
  {
   "cell_type": "code",
   "execution_count": 13,
   "metadata": {},
   "outputs": [
    {
     "data": {
      "text/plain": [
       "array([[False, False, False, False, False, False, False, False, False],\n",
       "       [False, False, False, False, False, False, False, False, False],\n",
       "       [False, False, False, False, False, False, False, False, False],\n",
       "       [False, False, False, False, False, False, False, False, False],\n",
       "       [False, False, False, False, False, False, False, False, False],\n",
       "       [False, False, False, False, False, False, False, False, False],\n",
       "       [False, False, False, False, False, False, False, False, False],\n",
       "       [False, False, False, False, False, False, False, False, False],\n",
       "       [False, False, False, False, False, False, False, False, False]])"
      ]
     },
     "execution_count": 13,
     "metadata": {},
     "output_type": "execute_result"
    }
   ],
   "source": [
    "LHS==RHS"
   ]
  },
  {
   "cell_type": "markdown",
   "metadata": {},
   "source": [
    "## Commutative Property -  vector multiplication IS commutative\n",
    "### Prove that for vectors, x<sup>T</sup> . y = y<sup>T</sup> . x\n",
    "Note: superscipt<sup>T</sup> denotes the transpose we saw earlier"
   ]
  },
  {
   "cell_type": "code",
   "execution_count": 14,
   "metadata": {},
   "outputs": [],
   "source": [
    "x = np.zeros([1,9])\n",
    "y = np.zeros([1,9])"
   ]
  },
  {
   "cell_type": "code",
   "execution_count": 15,
   "metadata": {},
   "outputs": [],
   "source": [
    "x = rand_matrix(x)\n",
    "y = rand_matrix(y)"
   ]
  },
  {
   "cell_type": "code",
   "execution_count": 16,
   "metadata": {},
   "outputs": [],
   "source": [
    "xt = x.T\n",
    "yt=y.T"
   ]
  },
  {
   "cell_type": "code",
   "execution_count": 17,
   "metadata": {},
   "outputs": [
    {
     "data": {
      "text/plain": [
       "array([[1260.,  108., 1422.,  540.,  126.,  720.,  972., 1746., 1242.],\n",
       "       [5110.,  438., 5767., 2190.,  511., 2920., 3942., 7081., 5037.],\n",
       "       [5600.,  480., 6320., 2400.,  560., 3200., 4320., 7760., 5520.],\n",
       "       [5040.,  432., 5688., 2160.,  504., 2880., 3888., 6984., 4968.],\n",
       "       [5950.,  510., 6715., 2550.,  595., 3400., 4590., 8245., 5865.],\n",
       "       [6230.,  534., 7031., 2670.,  623., 3560., 4806., 8633., 6141.],\n",
       "       [3360.,  288., 3792., 1440.,  336., 1920., 2592., 4656., 3312.],\n",
       "       [3080.,  264., 3476., 1320.,  308., 1760., 2376., 4268., 3036.],\n",
       "       [1190.,  102., 1343.,  510.,  119.,  680.,  918., 1649., 1173.]])"
      ]
     },
     "execution_count": 17,
     "metadata": {},
     "output_type": "execute_result"
    }
   ],
   "source": [
    "LHS = np.dot(xt,y)\n",
    "LHS"
   ]
  },
  {
   "cell_type": "code",
   "execution_count": 18,
   "metadata": {},
   "outputs": [
    {
     "data": {
      "text/plain": [
       "array([[1260., 5110., 5600., 5040., 5950., 6230., 3360., 3080., 1190.],\n",
       "       [ 108.,  438.,  480.,  432.,  510.,  534.,  288.,  264.,  102.],\n",
       "       [1422., 5767., 6320., 5688., 6715., 7031., 3792., 3476., 1343.],\n",
       "       [ 540., 2190., 2400., 2160., 2550., 2670., 1440., 1320.,  510.],\n",
       "       [ 126.,  511.,  560.,  504.,  595.,  623.,  336.,  308.,  119.],\n",
       "       [ 720., 2920., 3200., 2880., 3400., 3560., 1920., 1760.,  680.],\n",
       "       [ 972., 3942., 4320., 3888., 4590., 4806., 2592., 2376.,  918.],\n",
       "       [1746., 7081., 7760., 6984., 8245., 8633., 4656., 4268., 1649.],\n",
       "       [1242., 5037., 5520., 4968., 5865., 6141., 3312., 3036., 1173.]])"
      ]
     },
     "execution_count": 18,
     "metadata": {},
     "output_type": "execute_result"
    }
   ],
   "source": [
    "RHS = np.dot(yt,x)\n",
    "RHS"
   ]
  },
  {
   "cell_type": "code",
   "execution_count": 19,
   "metadata": {},
   "outputs": [
    {
     "data": {
      "text/plain": [
       "array([[ True, False, False, False, False, False, False, False, False],\n",
       "       [False,  True, False, False, False, False, False, False, False],\n",
       "       [False, False,  True, False, False, False, False, False, False],\n",
       "       [False, False, False,  True, False, False, False, False, False],\n",
       "       [False, False, False, False,  True, False, False, False, False],\n",
       "       [False, False, False, False, False,  True, False, False, False],\n",
       "       [False, False, False, False, False, False,  True, False, False],\n",
       "       [False, False, False, False, False, False, False,  True, False],\n",
       "       [False, False, False, False, False, False, False, False,  True]])"
      ]
     },
     "execution_count": 19,
     "metadata": {},
     "output_type": "execute_result"
    }
   ],
   "source": [
    "LHS==RHS"
   ]
  },
  {
   "cell_type": "markdown",
   "metadata": {},
   "source": [
    "#### and finally \n",
    "## Simplification of the matrix product\n",
    "### Prove that  (A.B)<sup>T</sup> = B<sup>T</sup> . A<sup>T</sup>"
   ]
  },
  {
   "cell_type": "code",
   "execution_count": 22,
   "metadata": {},
   "outputs": [
    {
     "data": {
      "text/plain": [
       "array([[21732., 14612., 24985., 28699., 25642., 26219., 11950., 25373.,\n",
       "        24616.],\n",
       "       [20999.,  8134., 16825., 19497., 16885., 16718., 13961., 18998.,\n",
       "        16252.],\n",
       "       [21085., 16632., 23866., 25926., 21680., 26112., 13541., 22023.,\n",
       "        25081.],\n",
       "       [20784., 20472., 26211., 28851., 21563., 23862., 16722., 25445.,\n",
       "        26517.],\n",
       "       [24987., 21837., 27548., 31659., 23047., 26503., 16011., 26043.,\n",
       "        30001.],\n",
       "       [34203., 25665., 34158., 43714., 33468., 37657., 21020., 38868.,\n",
       "        38266.],\n",
       "       [24006., 15453., 25133., 27693., 16841., 21839., 14389., 22756.,\n",
       "        19109.],\n",
       "       [31498., 15611., 29264., 29988., 24384., 27728., 22390., 28794.,\n",
       "        28377.],\n",
       "       [20101., 12869., 25107., 21761., 20098., 19624., 14186., 17035.,\n",
       "        16244.]])"
      ]
     },
     "execution_count": 22,
     "metadata": {},
     "output_type": "execute_result"
    }
   ],
   "source": [
    "lhs = np.dot(A,B)\n",
    "LHS = lhs.T\n",
    "LHS"
   ]
  },
  {
   "cell_type": "code",
   "execution_count": 23,
   "metadata": {},
   "outputs": [],
   "source": [
    "bt=B.T\n"
   ]
  },
  {
   "cell_type": "markdown",
   "metadata": {},
   "source": [
    "## Summary \n",
    "\n",
    "So now we have seen enough matrix algebra to help us solve a problem of linear equations as we saw earlier in this section. We shall see how to do this next. "
   ]
  },
  {
   "cell_type": "code",
   "execution_count": null,
   "metadata": {},
   "outputs": [],
   "source": []
  },
  {
   "cell_type": "code",
   "execution_count": null,
   "metadata": {},
   "outputs": [],
   "source": []
  },
  {
   "cell_type": "code",
   "execution_count": null,
   "metadata": {},
   "outputs": [],
   "source": []
  },
  {
   "cell_type": "code",
   "execution_count": null,
   "metadata": {},
   "outputs": [],
   "source": []
  },
  {
   "cell_type": "code",
   "execution_count": null,
   "metadata": {},
   "outputs": [],
   "source": []
  },
  {
   "cell_type": "code",
   "execution_count": null,
   "metadata": {},
   "outputs": [],
   "source": []
  },
  {
   "cell_type": "code",
   "execution_count": null,
   "metadata": {},
   "outputs": [],
   "source": []
  }
 ],
 "metadata": {
  "kernelspec": {
   "display_name": "Python 3",
   "language": "python",
   "name": "python3"
  },
  "language_info": {
   "codemirror_mode": {
    "name": "ipython",
    "version": 3
   },
   "file_extension": ".py",
   "mimetype": "text/x-python",
   "name": "python",
   "nbconvert_exporter": "python",
   "pygments_lexer": "ipython3",
   "version": "3.6.6"
  }
 },
 "nbformat": 4,
 "nbformat_minor": 2
}

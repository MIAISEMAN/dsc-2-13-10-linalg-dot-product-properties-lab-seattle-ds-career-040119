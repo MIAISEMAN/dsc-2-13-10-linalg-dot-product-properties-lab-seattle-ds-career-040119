{
 "cells": [
  {
   "cell_type": "markdown",
   "metadata": {},
   "source": [
    "# Properties of Dot Product - Lab"
   ]
  },
  {
   "cell_type": "markdown",
   "metadata": {},
   "source": [
    "## Introduction\n",
    "\n",
    "In this lab we shall look at some interesting properties of a Dot product type matrix multiplication. Understanding these properties will become useful as we move forward with machine learning advanced linear algebra. The lab will require you to calculate results to provide a proof for these properties.\n",
    "\n",
    "## Objectives\n",
    "You will be able to:\n",
    "* Understand and analytically explain Distributive, Commutative and Associative properties of dot product\n",
    "\n",
    "## Instructions\n",
    "\n",
    "* For each property, create suitably sized matrices with random data and prove the equations \n",
    "* Ensure that size/dimension assumptions are met while performing calculations (you'll see errors otherwise)\n",
    "* Calculate the LHS and RHS for all equations and show if they are equal or not"
   ]
  },
  {
   "cell_type": "markdown",
   "metadata": {},
   "source": [
    "## Distributive Property - Matrices multiplication is distributive\n",
    "### Prove that A.(B+C)=A.B+A.C"
   ]
  },
  {
   "cell_type": "code",
   "execution_count": 2,
   "metadata": {},
   "outputs": [],
   "source": [
    "import numpy as np\n",
    "import random\n",
    "    \n",
    "def rand_matrix(matrix):    \n",
    "    for x in range(0, matrix.shape[0]):\n",
    "        for y in range(0, matrix.shape[1]):\n",
    "            matrix[x][y] = random.randrange(1, 100)\n",
    "    return matrix   "
   ]
  },
  {
   "cell_type": "code",
   "execution_count": 3,
   "metadata": {},
   "outputs": [],
   "source": [
    "A = np.zeros([9,9])\n",
    "B = np.zeros([9,9])\n",
    "C = np.zeros([9,9])"
   ]
  },
  {
   "cell_type": "code",
   "execution_count": 4,
   "metadata": {},
   "outputs": [],
   "source": [
    "A = rand_matrix(A)\n",
    "B = rand_matrix(B)\n",
    "C = rand_matrix(C)"
   ]
  },
  {
   "cell_type": "code",
   "execution_count": 5,
   "metadata": {},
   "outputs": [
    {
     "data": {
      "text/plain": [
       "array([[42827., 42346., 44205., 54388., 53193., 56949., 42625., 61232.,\n",
       "        49225.],\n",
       "       [36888., 25770., 33387., 40638., 40236., 39642., 22309., 32984.,\n",
       "        30292.],\n",
       "       [52460., 40556., 47169., 57683., 56594., 59165., 40070., 64707.,\n",
       "        59166.],\n",
       "       [61204., 43554., 51427., 60915., 62615., 67968., 44403., 60041.,\n",
       "        53173.],\n",
       "       [53091., 36148., 37778., 45298., 53668., 53898., 28900., 48689.,\n",
       "        44746.],\n",
       "       [55018., 37394., 48301., 51854., 56722., 59798., 35812., 55130.,\n",
       "        46809.],\n",
       "       [26705., 24803., 26685., 35935., 36352., 33870., 25196., 45916.,\n",
       "        36786.],\n",
       "       [50121., 41350., 43691., 53352., 51460., 61433., 37371., 57457.,\n",
       "        46998.],\n",
       "       [53371., 41630., 43514., 53243., 59095., 61771., 30418., 53056.,\n",
       "        41421.]])"
      ]
     },
     "execution_count": 5,
     "metadata": {},
     "output_type": "execute_result"
    }
   ],
   "source": [
    "LHS = np.dot(A, (B+C))\n",
    "LHS"
   ]
  },
  {
   "cell_type": "code",
   "execution_count": 6,
   "metadata": {},
   "outputs": [
    {
     "data": {
      "text/plain": [
       "array([[42827., 42346., 44205., 54388., 53193., 56949., 42625., 61232.,\n",
       "        49225.],\n",
       "       [36888., 25770., 33387., 40638., 40236., 39642., 22309., 32984.,\n",
       "        30292.],\n",
       "       [52460., 40556., 47169., 57683., 56594., 59165., 40070., 64707.,\n",
       "        59166.],\n",
       "       [61204., 43554., 51427., 60915., 62615., 67968., 44403., 60041.,\n",
       "        53173.],\n",
       "       [53091., 36148., 37778., 45298., 53668., 53898., 28900., 48689.,\n",
       "        44746.],\n",
       "       [55018., 37394., 48301., 51854., 56722., 59798., 35812., 55130.,\n",
       "        46809.],\n",
       "       [26705., 24803., 26685., 35935., 36352., 33870., 25196., 45916.,\n",
       "        36786.],\n",
       "       [50121., 41350., 43691., 53352., 51460., 61433., 37371., 57457.,\n",
       "        46998.],\n",
       "       [53371., 41630., 43514., 53243., 59095., 61771., 30418., 53056.,\n",
       "        41421.]])"
      ]
     },
     "execution_count": 6,
     "metadata": {},
     "output_type": "execute_result"
    }
   ],
   "source": [
    "RHS = np.dot(A,B) + np.dot(A,C)\n",
    "RHS"
   ]
  },
  {
   "cell_type": "code",
   "execution_count": 7,
   "metadata": {},
   "outputs": [
    {
     "data": {
      "text/plain": [
       "array([[ True,  True,  True,  True,  True,  True,  True,  True,  True],\n",
       "       [ True,  True,  True,  True,  True,  True,  True,  True,  True],\n",
       "       [ True,  True,  True,  True,  True,  True,  True,  True,  True],\n",
       "       [ True,  True,  True,  True,  True,  True,  True,  True,  True],\n",
       "       [ True,  True,  True,  True,  True,  True,  True,  True,  True],\n",
       "       [ True,  True,  True,  True,  True,  True,  True,  True,  True],\n",
       "       [ True,  True,  True,  True,  True,  True,  True,  True,  True],\n",
       "       [ True,  True,  True,  True,  True,  True,  True,  True,  True],\n",
       "       [ True,  True,  True,  True,  True,  True,  True,  True,  True]])"
      ]
     },
     "execution_count": 7,
     "metadata": {},
     "output_type": "execute_result"
    }
   ],
   "source": [
    "LHS==RHS"
   ]
  },
  {
   "cell_type": "markdown",
   "metadata": {},
   "source": [
    "## Associative Property - Matrices multiplication is associative\n",
    "### Prove that A.(B.C)=(A.B).C"
   ]
  },
  {
   "cell_type": "code",
   "execution_count": 8,
   "metadata": {},
   "outputs": [
    {
     "data": {
      "text/plain": [
       "array([[11967601., 10168641., 10309702., 13984885., 12486069., 10493728.,\n",
       "         7312737., 13775741., 13883342.],\n",
       "       [ 8079659.,  7109850.,  7161110., 10079506.,  8860773.,  7058457.,\n",
       "         5182230.,  9870302.,  9894421.],\n",
       "       [12863953., 10550700., 10938806., 14859806., 13559810., 10780814.,\n",
       "         7730545., 14951055., 15048836.],\n",
       "       [14128871., 12197088., 12222795., 16875614., 14893394., 12125213.,\n",
       "         8621805., 16243752., 16358829.],\n",
       "       [11104030.,  9700127.,  9640646., 13277958., 11707878.,  9434728.,\n",
       "         6701352., 12647992., 12801748.],\n",
       "       [12215380., 10593846., 10848855., 14850338., 12910299., 10487815.,\n",
       "         7663784., 14320913., 14496089.],\n",
       "       [ 7790044.,  6746546.,  6606723.,  9065347.,  8224826.,  6992575.,\n",
       "         4774398.,  9180789.,  9299373.],\n",
       "       [12302341., 10942986., 10613125., 14753605., 12872442., 10775585.,\n",
       "         7520823., 14038114., 14231109.],\n",
       "       [11791653., 10859810., 10620272., 15009532., 12810743., 10644288.,\n",
       "         7738895., 14284907., 14455638.]])"
      ]
     },
     "execution_count": 8,
     "metadata": {},
     "output_type": "execute_result"
    }
   ],
   "source": [
    "LHS = np.dot(A,(np.dot(B,C)))\n",
    "LHS"
   ]
  },
  {
   "cell_type": "code",
   "execution_count": 9,
   "metadata": {},
   "outputs": [
    {
     "data": {
      "text/plain": [
       "array([[11967601., 10168641., 10309702., 13984885., 12486069., 10493728.,\n",
       "         7312737., 13775741., 13883342.],\n",
       "       [ 8079659.,  7109850.,  7161110., 10079506.,  8860773.,  7058457.,\n",
       "         5182230.,  9870302.,  9894421.],\n",
       "       [12863953., 10550700., 10938806., 14859806., 13559810., 10780814.,\n",
       "         7730545., 14951055., 15048836.],\n",
       "       [14128871., 12197088., 12222795., 16875614., 14893394., 12125213.,\n",
       "         8621805., 16243752., 16358829.],\n",
       "       [11104030.,  9700127.,  9640646., 13277958., 11707878.,  9434728.,\n",
       "         6701352., 12647992., 12801748.],\n",
       "       [12215380., 10593846., 10848855., 14850338., 12910299., 10487815.,\n",
       "         7663784., 14320913., 14496089.],\n",
       "       [ 7790044.,  6746546.,  6606723.,  9065347.,  8224826.,  6992575.,\n",
       "         4774398.,  9180789.,  9299373.],\n",
       "       [12302341., 10942986., 10613125., 14753605., 12872442., 10775585.,\n",
       "         7520823., 14038114., 14231109.],\n",
       "       [11791653., 10859810., 10620272., 15009532., 12810743., 10644288.,\n",
       "         7738895., 14284907., 14455638.]])"
      ]
     },
     "execution_count": 9,
     "metadata": {},
     "output_type": "execute_result"
    }
   ],
   "source": [
    "rhs_inner = np.dot(A,B)\n",
    "RHS = np.dot(rhs_inner,C)\n",
    "RHS"
   ]
  },
  {
   "cell_type": "code",
   "execution_count": 10,
   "metadata": {},
   "outputs": [
    {
     "data": {
      "text/plain": [
       "array([[ True,  True,  True,  True,  True,  True,  True,  True,  True],\n",
       "       [ True,  True,  True,  True,  True,  True,  True,  True,  True],\n",
       "       [ True,  True,  True,  True,  True,  True,  True,  True,  True],\n",
       "       [ True,  True,  True,  True,  True,  True,  True,  True,  True],\n",
       "       [ True,  True,  True,  True,  True,  True,  True,  True,  True],\n",
       "       [ True,  True,  True,  True,  True,  True,  True,  True,  True],\n",
       "       [ True,  True,  True,  True,  True,  True,  True,  True,  True],\n",
       "       [ True,  True,  True,  True,  True,  True,  True,  True,  True],\n",
       "       [ True,  True,  True,  True,  True,  True,  True,  True,  True]])"
      ]
     },
     "execution_count": 10,
     "metadata": {},
     "output_type": "execute_result"
    }
   ],
   "source": [
    "RHS==LHS"
   ]
  },
  {
   "cell_type": "markdown",
   "metadata": {},
   "source": [
    "## Commutative Property - Matrix multiplication is NOT commutative\n",
    "### Prove that for matrices, A.B ≠ B.A"
   ]
  },
  {
   "cell_type": "code",
   "execution_count": 39,
   "metadata": {},
   "outputs": [
    {
     "data": {
      "text/plain": [
       "array([[22152., 24115., 25914., 33642., 21351., 38268., 32403., 29467.,\n",
       "        33105.],\n",
       "       [22354., 18192., 26703., 28714., 21071., 31296., 30153., 34151.,\n",
       "        27642.],\n",
       "       [23672., 23167., 23578., 31147., 21863., 34569., 32168., 29169.,\n",
       "        28137.],\n",
       "       [14866., 17460., 16232., 22959., 16066., 25944., 26737., 23475.,\n",
       "        22901.],\n",
       "       [20499., 15553., 16241., 19453., 15293., 22616., 20373., 25999.,\n",
       "        24239.],\n",
       "       [16927., 18659., 21445., 30111., 18538., 33453., 32450., 30051.,\n",
       "        28516.],\n",
       "       [21852., 25691., 22936., 29767., 20334., 36207., 29914., 26609.,\n",
       "        30063.],\n",
       "       [18864., 16566., 23868., 28627., 12157., 31401., 22159., 25542.,\n",
       "        24530.],\n",
       "       [13965., 13114., 12785., 17213., 12157., 20433., 19069., 19371.,\n",
       "        15678.]])"
      ]
     },
     "execution_count": 39,
     "metadata": {},
     "output_type": "execute_result"
    }
   ],
   "source": [
    "LHS = np.dot(A,B)\n",
    "LHS"
   ]
  },
  {
   "cell_type": "code",
   "execution_count": 41,
   "metadata": {},
   "outputs": [
    {
     "data": {
      "text/plain": [
       "array([[22485., 20820., 18443., 29207., 23224., 18796., 34021., 13496.,\n",
       "        11306.],\n",
       "       [20610., 17579., 16855., 25653., 23797., 19256., 29131., 17461.,\n",
       "        14352.],\n",
       "       [22744., 17832., 15144., 29224., 21516., 16504., 27818., 17625.,\n",
       "        12211.],\n",
       "       [27870., 25369., 21194., 34732., 36298., 23427., 42064., 18166.,\n",
       "        18474.],\n",
       "       [29785., 27605., 21335., 28894., 29831., 17213., 34589., 18780.,\n",
       "        16458.],\n",
       "       [29034., 26532., 24330., 40140., 34535., 20111., 41466., 23350.,\n",
       "        17577.],\n",
       "       [20553., 14877., 14823., 24418., 22348., 14431., 25168., 12963.,\n",
       "        10635.],\n",
       "       [31291., 25586., 25804., 35198., 39352., 26174., 43377., 21932.,\n",
       "        19956.],\n",
       "       [29933., 24464., 23253., 33547., 36779., 23056., 38656., 20913.,\n",
       "        19779.]])"
      ]
     },
     "execution_count": 41,
     "metadata": {},
     "output_type": "execute_result"
    }
   ],
   "source": [
    "RHS = np.dot(B,A)\n",
    "RHS"
   ]
  },
  {
   "cell_type": "code",
   "execution_count": 42,
   "metadata": {},
   "outputs": [
    {
     "data": {
      "text/plain": [
       "array([[False, False, False, False, False, False, False, False, False],\n",
       "       [False, False, False, False, False, False, False, False, False],\n",
       "       [False, False, False, False, False, False, False, False, False],\n",
       "       [False, False, False, False, False, False, False, False, False],\n",
       "       [False, False, False, False, False, False, False, False, False],\n",
       "       [False, False, False, False, False, False, False, False, False],\n",
       "       [False, False, False, False, False, False, False, False, False],\n",
       "       [False, False, False, False, False, False, False, False, False],\n",
       "       [False, False, False, False, False, False, False, False, False]])"
      ]
     },
     "execution_count": 42,
     "metadata": {},
     "output_type": "execute_result"
    }
   ],
   "source": [
    "LHS==RHS"
   ]
  },
  {
   "cell_type": "markdown",
   "metadata": {},
   "source": [
    "## Commutative Property -  vector multiplication IS commutative\n",
    "### Prove that for vectors, x<sup>T</sup> . y = y<sup>T</sup> . x\n",
    "Note: superscipt<sup>T</sup> denotes the transpose we saw earlier"
   ]
  },
  {
   "cell_type": "code",
   "execution_count": 66,
   "metadata": {},
   "outputs": [],
   "source": [
    "x = np.zeros([1,9])\n",
    "y = np.zeros([1,9])"
   ]
  },
  {
   "cell_type": "code",
   "execution_count": 67,
   "metadata": {},
   "outputs": [],
   "source": [
    "x = rand_matrix(x)\n",
    "y = rand_matrix(y)"
   ]
  },
  {
   "cell_type": "code",
   "execution_count": 68,
   "metadata": {},
   "outputs": [],
   "source": [
    "xt = x.T\n",
    "yt=y.T"
   ]
  },
  {
   "cell_type": "code",
   "execution_count": 69,
   "metadata": {},
   "outputs": [
    {
     "data": {
      "text/plain": [
       "array([[3.825e+03, 9.000e+02, 6.450e+03, 2.850e+03, 2.475e+03, 1.800e+03,\n",
       "        6.225e+03, 7.500e+01, 7.500e+01],\n",
       "       [4.590e+03, 1.080e+03, 7.740e+03, 3.420e+03, 2.970e+03, 2.160e+03,\n",
       "        7.470e+03, 9.000e+01, 9.000e+01],\n",
       "       [2.652e+03, 6.240e+02, 4.472e+03, 1.976e+03, 1.716e+03, 1.248e+03,\n",
       "        4.316e+03, 5.200e+01, 5.200e+01],\n",
       "       [1.530e+02, 3.600e+01, 2.580e+02, 1.140e+02, 9.900e+01, 7.200e+01,\n",
       "        2.490e+02, 3.000e+00, 3.000e+00],\n",
       "       [1.071e+03, 2.520e+02, 1.806e+03, 7.980e+02, 6.930e+02, 5.040e+02,\n",
       "        1.743e+03, 2.100e+01, 2.100e+01],\n",
       "       [3.060e+02, 7.200e+01, 5.160e+02, 2.280e+02, 1.980e+02, 1.440e+02,\n",
       "        4.980e+02, 6.000e+00, 6.000e+00],\n",
       "       [4.845e+03, 1.140e+03, 8.170e+03, 3.610e+03, 3.135e+03, 2.280e+03,\n",
       "        7.885e+03, 9.500e+01, 9.500e+01],\n",
       "       [4.437e+03, 1.044e+03, 7.482e+03, 3.306e+03, 2.871e+03, 2.088e+03,\n",
       "        7.221e+03, 8.700e+01, 8.700e+01],\n",
       "       [3.060e+03, 7.200e+02, 5.160e+03, 2.280e+03, 1.980e+03, 1.440e+03,\n",
       "        4.980e+03, 6.000e+01, 6.000e+01]])"
      ]
     },
     "execution_count": 69,
     "metadata": {},
     "output_type": "execute_result"
    }
   ],
   "source": [
    "LHS = np.dot(xt,y)\n",
    "LHS"
   ]
  },
  {
   "cell_type": "code",
   "execution_count": 71,
   "metadata": {},
   "outputs": [
    {
     "data": {
      "text/plain": [
       "array([[3.825e+03, 4.590e+03, 2.652e+03, 1.530e+02, 1.071e+03, 3.060e+02,\n",
       "        4.845e+03, 4.437e+03, 3.060e+03],\n",
       "       [9.000e+02, 1.080e+03, 6.240e+02, 3.600e+01, 2.520e+02, 7.200e+01,\n",
       "        1.140e+03, 1.044e+03, 7.200e+02],\n",
       "       [6.450e+03, 7.740e+03, 4.472e+03, 2.580e+02, 1.806e+03, 5.160e+02,\n",
       "        8.170e+03, 7.482e+03, 5.160e+03],\n",
       "       [2.850e+03, 3.420e+03, 1.976e+03, 1.140e+02, 7.980e+02, 2.280e+02,\n",
       "        3.610e+03, 3.306e+03, 2.280e+03],\n",
       "       [2.475e+03, 2.970e+03, 1.716e+03, 9.900e+01, 6.930e+02, 1.980e+02,\n",
       "        3.135e+03, 2.871e+03, 1.980e+03],\n",
       "       [1.800e+03, 2.160e+03, 1.248e+03, 7.200e+01, 5.040e+02, 1.440e+02,\n",
       "        2.280e+03, 2.088e+03, 1.440e+03],\n",
       "       [6.225e+03, 7.470e+03, 4.316e+03, 2.490e+02, 1.743e+03, 4.980e+02,\n",
       "        7.885e+03, 7.221e+03, 4.980e+03],\n",
       "       [7.500e+01, 9.000e+01, 5.200e+01, 3.000e+00, 2.100e+01, 6.000e+00,\n",
       "        9.500e+01, 8.700e+01, 6.000e+01],\n",
       "       [7.500e+01, 9.000e+01, 5.200e+01, 3.000e+00, 2.100e+01, 6.000e+00,\n",
       "        9.500e+01, 8.700e+01, 6.000e+01]])"
      ]
     },
     "execution_count": 71,
     "metadata": {},
     "output_type": "execute_result"
    }
   ],
   "source": [
    "RHS = np.dot(yt,x)\n",
    "RHS"
   ]
  },
  {
   "cell_type": "code",
   "execution_count": 72,
   "metadata": {},
   "outputs": [
    {
     "data": {
      "text/plain": [
       "array([[ True, False, False, False, False, False, False, False, False],\n",
       "       [False,  True, False, False, False, False, False, False, False],\n",
       "       [False, False,  True, False, False, False, False, False, False],\n",
       "       [False, False, False,  True, False, False, False, False, False],\n",
       "       [False, False, False, False,  True, False, False, False, False],\n",
       "       [False, False, False, False, False,  True, False, False, False],\n",
       "       [False, False, False, False, False, False,  True, False, False],\n",
       "       [False, False, False, False, False, False, False,  True, False],\n",
       "       [False, False, False, False, False, False, False, False,  True]])"
      ]
     },
     "execution_count": 72,
     "metadata": {},
     "output_type": "execute_result"
    }
   ],
   "source": [
    "LHS==RHS"
   ]
  },
  {
   "cell_type": "markdown",
   "metadata": {},
   "source": [
    "#### and finally \n",
    "## Simplification of the matrix product\n",
    "### Prove that  (A.B)<sup>T</sup> = B<sup>T</sup> . A<sup>T</sup>"
   ]
  },
  {
   "cell_type": "code",
   "execution_count": 1,
   "metadata": {},
   "outputs": [
    {
     "ename": "NameError",
     "evalue": "name 'np' is not defined",
     "output_type": "error",
     "traceback": [
      "\u001b[0;31m\u001b[0m",
      "\u001b[0;31mNameError\u001b[0mTraceback (most recent call last)",
      "\u001b[0;32m<ipython-input-1-7298c228e128>\u001b[0m in \u001b[0;36m<module>\u001b[0;34m()\u001b[0m\n\u001b[0;32m----> 1\u001b[0;31m \u001b[0mlhs\u001b[0m \u001b[0;34m=\u001b[0m \u001b[0mnp\u001b[0m\u001b[0;34m.\u001b[0m\u001b[0mdot\u001b[0m\u001b[0;34m(\u001b[0m\u001b[0mA\u001b[0m\u001b[0;34m,\u001b[0m\u001b[0mB\u001b[0m\u001b[0;34m)\u001b[0m\u001b[0;34m\u001b[0m\u001b[0m\n\u001b[0m\u001b[1;32m      2\u001b[0m \u001b[0mLHS\u001b[0m \u001b[0;34m=\u001b[0m \u001b[0mlhs\u001b[0m\u001b[0;34m.\u001b[0m\u001b[0mT\u001b[0m\u001b[0;34m\u001b[0m\u001b[0m\n",
      "\u001b[0;31mNameError\u001b[0m: name 'np' is not defined"
     ]
    }
   ],
   "source": [
    "lhs = np.dot(A,B)\n",
    "LHS = lhs.T"
   ]
  },
  {
   "cell_type": "markdown",
   "metadata": {},
   "source": [
    "## Summary \n",
    "\n",
    "So now we have seen enough matrix algebra to help us solve a problem of linear equations as we saw earlier in this section. We shall see how to do this next. "
   ]
  }
 ],
 "metadata": {
  "kernelspec": {
   "display_name": "Python 3",
   "language": "python",
   "name": "python3"
  },
  "language_info": {
   "codemirror_mode": {
    "name": "ipython",
    "version": 3
   },
   "file_extension": ".py",
   "mimetype": "text/x-python",
   "name": "python",
   "nbconvert_exporter": "python",
   "pygments_lexer": "ipython3",
   "version": "3.6.6"
  }
 },
 "nbformat": 4,
 "nbformat_minor": 2
}
